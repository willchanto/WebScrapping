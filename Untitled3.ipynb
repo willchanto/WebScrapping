{
 "cells": [
  {
   "cell_type": "code",
   "execution_count": 5,
   "id": "f588c711-f349-4fea-b665-9fa9c626798b",
   "metadata": {},
   "outputs": [],
   "source": [
    "import pandas as pd\n",
    "import matplotlib as plt\n",
    "import seaborn as sns\n",
    "import os\n",
    "#from plotly import __version__\n",
    "#from plotly.offline import download_plotlyjs, init_notebook_mode, plot, iplot\n",
    "#import cufflinks as cf\n",
    "#init_notebook_mode(connected=True)\n",
    "#cf.go_offline()\n",
    "%matplotlib inline\n",
    "#pd.set_option('display.max_columns', None)"
   ]
  },
  {
   "cell_type": "code",
   "execution_count": 6,
   "id": "7ee14791-e6bd-4c41-97dd-8bf0d5b83b63",
   "metadata": {},
   "outputs": [],
   "source": [
    "df = pd.read_csv(\"crautos.csv\")"
   ]
  },
  {
   "cell_type": "code",
   "execution_count": 8,
   "id": "1d7595f8-3b9c-4e8c-a7ec-043d25d3dc6e",
   "metadata": {},
   "outputs": [
    {
     "data": {
      "text/plain": [
       "<bound method NDFrame.describe of        year       marca             modelo pasajeros  \\\n",
       "0      2000        Fiat              PUNTO         5   \n",
       "1      1973  Volkswagen            VARIANT         5   \n",
       "2      1987      Nissan         SENTRA B12         5   \n",
       "3      2001     Hyundai              VERNA         5   \n",
       "4      1993    Daihatsu             FEROZA         5   \n",
       "...     ...         ...                ...       ...   \n",
       "10660  2022      Toyota   LAND CRUISER GXR         7   \n",
       "10661  2021   Dodge/RAM                TRX         6   \n",
       "10662  2021   Dodge/RAM           1500 TRX         5   \n",
       "10663  2023        Audi           A8 na na        na   \n",
       "10664  2022      Toyota  LAND CRUISER V-XR         7   \n",
       "\n",
       "                                         descripcion    precio preciodolar  \\\n",
       "0                        ['PUNTO', '•', '5', 'Pas.']    200000         374   \n",
       "1                      ['VARIANT', '•', '5', 'Pas.']    500000         935   \n",
       "2                ['SENTRA', 'B12', '•', '5', 'Pas.']    580000        1084   \n",
       "3                        ['VERNA', '•', '5', 'Pas.']    600000        1121   \n",
       "4                       ['FEROZA', '•', '5', 'Pas.']    750000        1402   \n",
       "...                                              ...       ...         ...   \n",
       "10660   ['LAND', 'CRUISER', 'GXR', '•', '7', 'Pas.']   $168000  ¢ 89880000   \n",
       "10661                      ['TRX', '•', '6', 'Pas.']   $169145  ¢ 90492565   \n",
       "10662              ['1500', 'TRX', '•', '5', 'Pas.']   $170074  ¢ 90989777   \n",
       "10663           ['A8', 'na', 'na', 'na', 'na', 'na']       NaN         NaN   \n",
       "10664  ['LAND', 'CRUISER', 'V-XR', '•', '7', 'Pas.']   $173000  ¢ 92555000   \n",
       "\n",
       "      Combustible: Cilindrada: Transmisión:           Estilo: Color Exterior:  \\\n",
       "0         Gasolina     1242 cc       Manual         Hatchback          BLANCO   \n",
       "1         Gasolina     1800 cc       Manual     Station Wagon            AZUL   \n",
       "2         Gasolina     1600 cc       Manual             Sedán            ROJO   \n",
       "3         Gasolina     1500 cc       Manual             Sedán          BLANCO   \n",
       "4         Gasolina     1500 cc       Manual  Todo Terreno 4x4    VERDE Y GRIS   \n",
       "...            ...         ...          ...               ...             ...   \n",
       "10660       Diesel     3300 cc   Automática  Todo Terreno 4x4          BLANCO   \n",
       "10661     Gasolina     6200 cc   Automática        Pickup 4x4            GRIS   \n",
       "10662     Gasolina     6200 cc   Automática        Pickup 4x4            GRIS   \n",
       "10663     Gasolina     3000 cc   Automática             Sedán             NaN   \n",
       "10664       Diesel     3300 cc   Automática  Todo Terreno 4x4           NEGRO   \n",
       "\n",
       "      Color Interior:        Placa: Provincia:  \n",
       "0                AZUL  Termina en 8   San José  \n",
       "1                AZUL  Termina en 7   San José  \n",
       "2                GRIS  Termina en 1    Cartago  \n",
       "3               NEGRO  Termina en 6   Alajuela  \n",
       "4                GRIS  Termina en 8   San José  \n",
       "...               ...           ...        ...  \n",
       "10660           BEIGE  Termina en 0   San José  \n",
       "10661           NEGRO  Termina en 0   San José  \n",
       "10662           NEGRO  Termina en 2   San José  \n",
       "10663             NaN           NaN        NaN  \n",
       "10664           NEGRO  Termina en 8   San José  \n",
       "\n",
       "[10665 rows x 15 columns]>"
      ]
     },
     "execution_count": 8,
     "metadata": {},
     "output_type": "execute_result"
    }
   ],
   "source": [
    "df.describe"
   ]
  },
  {
   "cell_type": "code",
   "execution_count": null,
   "id": "2413130c-89f4-4d9e-a6d2-930f988a7e63",
   "metadata": {},
   "outputs": [],
   "source": []
  }
 ],
 "metadata": {
  "kernelspec": {
   "display_name": "Python 3 (ipykernel)",
   "language": "python",
   "name": "python3"
  },
  "language_info": {
   "codemirror_mode": {
    "name": "ipython",
    "version": 3
   },
   "file_extension": ".py",
   "mimetype": "text/x-python",
   "name": "python",
   "nbconvert_exporter": "python",
   "pygments_lexer": "ipython3",
   "version": "3.11.4"
  }
 },
 "nbformat": 4,
 "nbformat_minor": 5
}
