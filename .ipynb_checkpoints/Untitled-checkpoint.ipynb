{
 "cells": [
  {
   "cell_type": "code",
   "execution_count": 1,
   "id": "acffb01b-578a-4c5e-b45c-971e17dee742",
   "metadata": {},
   "outputs": [],
   "source": [
    "import requests  \n",
    "from bs4 import BeautifulSoup  "
   ]
  },
  {
   "cell_type": "code",
   "execution_count": 2,
   "id": "c9178d54-d39e-4abe-85bb-a837b994c8bc",
   "metadata": {},
   "outputs": [],
   "source": [
    "# abre la pagina de busqueda\n",
    "base_url = 'https://crautos.com/autosusados/searchresults.cfm'  \n",
    "respuesta = requests.get(base_url)\n",
    "soup = BeautifulSoup(respuesta.content,'html.parser')"
   ]
  },
  {
   "cell_type": "code",
   "execution_count": 3,
   "id": "d2041dda-c39f-44b5-af8b-96a3027f4ed0",
   "metadata": {},
   "outputs": [],
   "source": [
    "anuncios = soup.find_all('div', class_ ='inventory hidden-xs')"
   ]
  },
  {
   "cell_type": "code",
   "execution_count": 5,
   "id": "87ba918f-13fd-4c1a-97da-b3518032da63",
   "metadata": {},
   "outputs": [
    {
     "data": {
      "text/plain": [
       "[<td class=\"primary mytext1\">Combustible:</td>,\n",
       " <td class=\"spec\">\n",
       " \t\t\t\t\t\t\t\t\t\t\t\n",
       "                                               Gasolina\n",
       "                                             \n",
       "                                         </td>,\n",
       " <td class=\"primary mytext1\">Cilindrada:</td>,\n",
       " <td class=\"spec\">1242 cc</td>,\n",
       " <td class=\"primary mytext1\">Transmisión:</td>,\n",
       " <td class=\"spec\">\n",
       " \t\t\t\t\t\t\t\t\t\t\t\n",
       "                                               Manual\n",
       "                                             \n",
       "                                         </td>,\n",
       " <td class=\"primary mytext1\">Estilo:</td>,\n",
       " <td class=\"spec\">Hatchback</td>,\n",
       " <td colspan=\"2\" height=\"18\">\n",
       " <div class=\"inner stop\">\n",
       " </div>\n",
       " </td>,\n",
       " <td class=\"secondary mytext1\">Color Exterior:</td>,\n",
       " <td class=\"spec\">BLANCO</td>,\n",
       " <td class=\"secondary mytext1\">Color Interior:</td>,\n",
       " <td class=\"spec\">AZUL</td>,\n",
       " <td class=\"secondary mytext1\">Placa:</td>,\n",
       " <td class=\"spec\">\n",
       "                                           \n",
       "                                               Termina en 8 \n",
       "                                         </td>,\n",
       " <td class=\"secondary mytext1\">Provincia:</td>,\n",
       " <td class=\"spec\">San José</td>]"
      ]
     },
     "execution_count": 5,
     "metadata": {},
     "output_type": "execute_result"
    }
   ],
   "source": [
    "anuncio = anuncios[0]\n",
    "anuncio.find_all('td')\n"
   ]
  },
  {
   "cell_type": "code",
   "execution_count": null,
   "id": "908e7271-d0d9-4f80-b05e-7897adf5262f",
   "metadata": {},
   "outputs": [],
   "source": []
  },
  {
   "cell_type": "code",
   "execution_count": null,
   "id": "ff8fb6b5-1b15-44f3-a66d-bd4754fc68aa",
   "metadata": {},
   "outputs": [],
   "source": []
  },
  {
   "cell_type": "code",
   "execution_count": null,
   "id": "5a0068eb-5149-4128-acda-0f1135983a9b",
   "metadata": {},
   "outputs": [],
   "source": []
  },
  {
   "cell_type": "code",
   "execution_count": null,
   "id": "f807e7a4-f4d0-4962-84b7-df8c12764be7",
   "metadata": {},
   "outputs": [],
   "source": []
  },
  {
   "cell_type": "code",
   "execution_count": null,
   "id": "2068311e-89ac-47e9-9e78-6f30a80aeb26",
   "metadata": {},
   "outputs": [],
   "source": []
  },
  {
   "cell_type": "code",
   "execution_count": null,
   "id": "bac2420f-38aa-4c2c-8cc1-f53d2ea15c49",
   "metadata": {},
   "outputs": [],
   "source": [
    "params = {'p': 1, 'c': 10020}  \n",
    "  \n",
    "# Send a GET request to the URL with the query parameters  \n",
    "response = requests.get(base_url, params=params)  \n",
    "  \n",
    "# Create a BeautifulSoup object with the HTML content of the page  \n",
    "soup = BeautifulSoup(response.content, 'html.parser')  \n",
    "  \n",
    "# Find the total number of pages to scrape  \n",
    "total_pages = int(soup.find('span', class_='pagecount').text.split()[0])  \n",
    "  "
   ]
  },
  {
   "cell_type": "code",
   "execution_count": null,
   "id": "a717b8a3-08cf-47f6-afcc-fe79ebf6cce2",
   "metadata": {},
   "outputs": [],
   "source": [
    "# Loop through all the pages and scrape the data  \n",
    "results = []  \n",
    "for page in range(1, total_pages+1):  \n",
    "    # Set the query parameters for the current page  \n",
    "    params['p'] = page  \n",
    "      \n",
    "    # Send a GET request to the URL with the updated query parameters  \n",
    "    response = requests.get(base_url, params=params)  \n",
    "      \n",
    "    # Create a BeautifulSoup object with the HTML content of the page  \n",
    "    soup = BeautifulSoup(response.content, 'html.parser')  \n",
    "      \n",
    "    # Find all the listings on the page  \n",
    "    listings = soup.find_all('div', class_='listing')  \n",
    "      \n",
    "    # Extract the data from each listing  \n",
    "    for listing in listings:  \n",
    "        title = listing.find('h2', class_='title').text  \n",
    "        price = listing.find('div', class_='price').text  \n",
    "        year = listing.find('div', class_='year').text  \n",
    "        mileage = listing.find('div', class_='mileage').text  \n",
    "          \n",
    "        # Store the data in a dictionary  \n",
    "        data = {  \n",
    "            'title': title.strip(),  \n",
    "            'price': price.strip(),  \n",
    "            'year': year.strip(),  \n",
    "            'mileage': mileage.strip()  \n",
    "        }  \n",
    "          \n",
    "        # Append the data to the results list  \n",
    "        results.append(data)  \n",
    "  \n",
    "# Print the results  \n",
    "for result in results:  \n",
    "    print(result)  "
   ]
  }
 ],
 "metadata": {
  "kernelspec": {
   "display_name": "Python 3 (ipykernel)",
   "language": "python",
   "name": "python3"
  },
  "language_info": {
   "codemirror_mode": {
    "name": "ipython",
    "version": 3
   },
   "file_extension": ".py",
   "mimetype": "text/x-python",
   "name": "python",
   "nbconvert_exporter": "python",
   "pygments_lexer": "ipython3",
   "version": "3.11.4"
  }
 },
 "nbformat": 4,
 "nbformat_minor": 5
}
