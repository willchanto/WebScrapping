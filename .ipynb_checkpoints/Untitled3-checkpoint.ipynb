{
 "cells": [
  {
   "cell_type": "code",
   "execution_count": 2,
   "id": "f588c711-f349-4fea-b665-9fa9c626798b",
   "metadata": {},
   "outputs": [],
   "source": [
    "import pandas as pd\n",
    "import mat"
   ]
  },
  {
   "cell_type": "code",
   "execution_count": 3,
   "id": "7ee14791-e6bd-4c41-97dd-8bf0d5b83b63",
   "metadata": {},
   "outputs": [],
   "source": [
    "df = pd.read_csv(\"crautos.csv\")"
   ]
  },
  {
   "cell_type": "code",
   "execution_count": 4,
   "id": "1d7595f8-3b9c-4e8c-a7ec-043d25d3dc6e",
   "metadata": {},
   "outputs": [
    {
     "data": {
      "text/plain": [
       "(10665, 15)"
      ]
     },
     "execution_count": 4,
     "metadata": {},
     "output_type": "execute_result"
    }
   ],
   "source": [
    "df.shape"
   ]
  },
  {
   "cell_type": "code",
   "execution_count": null,
   "id": "2413130c-89f4-4d9e-a6d2-930f988a7e63",
   "metadata": {},
   "outputs": [],
   "source": []
  }
 ],
 "metadata": {
  "kernelspec": {
   "display_name": "Python 3 (ipykernel)",
   "language": "python",
   "name": "python3"
  },
  "language_info": {
   "codemirror_mode": {
    "name": "ipython",
    "version": 3
   },
   "file_extension": ".py",
   "mimetype": "text/x-python",
   "name": "python",
   "nbconvert_exporter": "python",
   "pygments_lexer": "ipython3",
   "version": "3.11.4"
  }
 },
 "nbformat": 4,
 "nbformat_minor": 5
}
