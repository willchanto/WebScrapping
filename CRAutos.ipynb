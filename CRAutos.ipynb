{
 "cells": [
  {
   "cell_type": "code",
   "execution_count": 82,
   "id": "acffb01b-578a-4c5e-b45c-971e17dee742",
   "metadata": {},
   "outputs": [],
   "source": [
    "import requests  \n",
    "from bs4 import BeautifulSoup  "
   ]
  },
  {
   "cell_type": "code",
   "execution_count": 83,
   "id": "c9178d54-d39e-4abe-85bb-a837b994c8bc",
   "metadata": {},
   "outputs": [],
   "source": [
    "# abre la pagina de busqueda\n",
    "base_url = 'https://crautos.com/autosusados/searchresults.cfm'  \n",
    "respuesta = requests.get(base_url)\n",
    "soup = BeautifulSoup(respuesta.content,'html.parser')"
   ]
  },
  {
   "cell_type": "code",
   "execution_count": 84,
   "id": "5ac4db1e-cb53-4ad0-8159-f04ff47f6c61",
   "metadata": {},
   "outputs": [],
   "source": [
    "def get_valores(tags):\n",
    "    categ=''\n",
    "    valor=''\n",
    "    for tag in tags:\n",
    "      if tag.has_attr('class'):\n",
    "        if tag['class'] == 'spec' or tag['class']==['spec']:\n",
    "          valor=tag.text.strip()\n",
    "        else:\n",
    "          categ=tag.text.strip()\n",
    "\n",
    "      if categ!='' and valor!='':\n",
    "         datos[categ]=valor\n",
    "         categ=''\n",
    "         valor=''"
   ]
  },
  {
   "cell_type": "code",
   "execution_count": 85,
   "id": "d2041dda-c39f-44b5-af8b-96a3027f4ed0",
   "metadata": {},
   "outputs": [],
   "source": [
    "anuncios = soup.find_all('div', class_ ='inventory hidden-xs')"
   ]
  },
  {
   "cell_type": "code",
   "execution_count": 81,
   "id": "87ba918f-13fd-4c1a-97da-b3518032da63",
   "metadata": {},
   "outputs": [
    {
     "name": "stdout",
     "output_type": "stream",
     "text": [
      "2000 Fiat PUNTO • 5 Pas.\n",
      "{'Combustible:': 'Gasolina', 'Cilindrada:': '1242 cc', 'Transmisión:': 'Manual', 'Estilo:': 'Hatchback', 'Color Exterior:': 'BLANCO', 'Color Interior:': 'AZUL', 'Placa:': 'Termina en 8', 'Provincia:': 'San José'}\n",
      "____________________________________________________________________________________________________\n",
      "1973 Volkswagen VARIANT • 5 Pas.\n",
      "{'Combustible:': 'Gasolina', 'Cilindrada:': '1800 cc', 'Transmisión:': 'Manual', 'Estilo:': 'Station Wagon', 'Color Exterior:': 'AZUL', 'Color Interior:': 'AZUL', 'Placa:': 'Termina en 7', 'Provincia:': 'San José'}\n",
      "____________________________________________________________________________________________________\n",
      "2003 Nissan FRONTIER • 3 Pas.\n",
      "{'Combustible:': 'Gasolina', 'Cilindrada:': '2500 cc', 'Transmisión:': 'Manual', 'Estilo:': 'Pickup 4x2', 'Color Exterior:': 'BLANCO', 'Color Interior:': 'GRIS', 'Placa:': 'Termina en 5', 'Provincia:': 'San José'}\n",
      "____________________________________________________________________________________________________\n",
      "2001 Hyundai VERNA • 5 Pas.\n",
      "{'Combustible:': 'Gasolina', 'Cilindrada:': '1500 cc', 'Transmisión:': 'Manual', 'Estilo:': 'Sedán', 'Color Exterior:': 'BLANCO', 'Color Interior:': 'NEGRO', 'Placa:': 'Termina en 6', 'Provincia:': 'Alajuela'}\n",
      "____________________________________________________________________________________________________\n",
      "1988 Nissan SENTRA • 5 Pas.\n",
      "{'Combustible:': 'Gasolina', 'Cilindrada:': '1600 cc', 'Transmisión:': 'Manual', 'Estilo:': 'Sedán', 'Color Exterior:': 'NEGRO', 'Color Interior:': 'NEGRO', 'Placa:': 'Termina en 1', 'Provincia:': 'San José'}\n",
      "____________________________________________________________________________________________________\n",
      "2002 Ford TAURUS SES • 5 Pas.\n",
      "{'Combustible:': 'Gasolina', 'Cilindrada:': '3000 cc', 'Transmisión:': 'Automática', 'Estilo:': 'Sedán', 'Color Exterior:': 'BLANCO', 'Color Interior:': 'NEGRO', 'Placa:': 'Termina en 8', 'Provincia:': 'San José'}\n",
      "____________________________________________________________________________________________________\n",
      "1999 Plymouth BREEZE • 5 Pas.\n",
      "{'Combustible:': 'Gasolina', 'Cilindrada:': '2000 cc', 'Transmisión:': 'Automática', 'Estilo:': 'Sedán', 'Color Exterior:': 'BEIGE', 'Color Interior:': 'BEIGE', 'Placa:': 'Termina en 5', 'Provincia:': 'Guanacaste'}\n",
      "____________________________________________________________________________________________________\n",
      "1987 Hyundai EXCEL • 5 Pas.\n",
      "{'Combustible:': 'Gasolina', 'Cilindrada:': '1469 cc', 'Transmisión:': 'Manual', 'Estilo:': 'Sedán', 'Color Exterior:': 'BEIGE', 'Color Interior:': 'GRIS', 'Placa:': 'Termina en 9', 'Provincia:': 'Alajuela'}\n",
      "____________________________________________________________________________________________________\n",
      "1997 Honda ACCORD • 5 Pas.\n",
      "{'Combustible:': 'Gasolina', 'Cilindrada:': '2200 cc', 'Transmisión:': 'Automática', 'Estilo:': 'Sedán', 'Color Exterior:': 'DORADO', 'Color Interior:': 'BEIGE', 'Placa:': 'Termina en 8', 'Provincia:': 'San José'}\n",
      "____________________________________________________________________________________________________\n",
      "1989 Mitsubishi LANCER • 5 Pas.\n",
      "{'Combustible:': 'Gasolina', 'Cilindrada:': '1500 cc', 'Transmisión:': 'Manual', 'Estilo:': 'Sedán', 'Color Exterior:': 'BLANCO', 'Color Interior:': 'CAFÉ', 'Placa:': 'Termina en 5', 'Provincia:': 'Cartago'}\n",
      "____________________________________________________________________________________________________\n",
      "1993 Yugo GV PLUS • 5 Pas.\n",
      "{'Combustible:': 'Gasolina', 'Cilindrada:': '1300 cc', 'Transmisión:': 'Manual', 'Estilo:': 'Sedán', 'Color Exterior:': 'ROJO', 'Color Interior:': 'GRIS', 'Placa:': 'Termina en 1', 'Provincia:': 'San José'}\n",
      "____________________________________________________________________________________________________\n",
      "1993 Hyundai SONATA • 5 Pas.\n",
      "{'Combustible:': 'Gasolina', 'Cilindrada:': '2000 cc', 'Transmisión:': 'Manual', 'Estilo:': 'Sedán', 'Color Exterior:': 'VINO', 'Color Interior:': 'NEGRO', 'Placa:': 'Termina en 5', 'Provincia:': 'Heredia'}\n",
      "____________________________________________________________________________________________________\n",
      "1993 Kia SPORTAGE • 5 Pas.\n",
      "{'Combustible:': 'Gasolina', 'Cilindrada:': '2000 cc', 'Transmisión:': 'Manual', 'Estilo:': 'Todo Terreno 4x4', 'Color Exterior:': 'AZUL', 'Color Interior:': 'NEGRO', 'Placa:': 'Termina en 9', 'Provincia:': 'Cartago'}\n",
      "____________________________________________________________________________________________________\n",
      "1985 Toyota COROLLA • 5 Pas.\n",
      "{'Combustible:': 'Gasolina', 'Cilindrada:': '1500 cc', 'Transmisión:': 'Manual', 'Estilo:': 'Sedán', 'Color Exterior:': 'BLANCO', 'Color Interior:': 'GRIS', 'Placa:': 'Termina en 0', 'Provincia:': 'San José'}\n",
      "____________________________________________________________________________________________________\n",
      "1988 Nissan PULSAR • 5 Pas.\n",
      "{'Combustible:': 'Gasolina', 'Cilindrada:': '1300 cc', 'Transmisión:': 'Manual', 'Estilo:': 'Sedán', 'Color Exterior:': 'AZUL', 'Color Interior:': 'GRIS', 'Placa:': 'Termina en 8', 'Provincia:': 'Heredia'}\n",
      "____________________________________________________________________________________________________\n"
     ]
    }
   ],
   "source": [
    "for anuncio in anuncios:\n",
    "   datos = {}\n",
    "   \n",
    "   nombre=anuncio.find('div').text.split() #Descripcion\n",
    "   nombre=' '.join(nombre)\n",
    "\n",
    "   tags = anuncio.find_all('td')           #Caracteristicas\n",
    "   get_valores(tags)\n",
    "   print(nombre)\n",
    "   print(datos)\n",
    "   print (\"_\"*100)"
   ]
  },
  {
   "cell_type": "code",
   "execution_count": 89,
   "id": "95ae923f-341b-4355-abb2-bebd7e5edeae",
   "metadata": {},
   "outputs": [
    {
     "data": {
      "text/plain": [
       "'($  2,056)*'"
      ]
     },
     "execution_count": 89,
     "metadata": {},
     "output_type": "execute_result"
    }
   ],
   "source": [
    "anuncio.find('div',class_='pricetext').text\n",
    "anuncio.find('div',class_='pricedollars').text\n",
    "#pricedollars"
   ]
  },
  {
   "cell_type": "code",
   "execution_count": 72,
   "id": "3cacbde2-9a4d-411c-8a84-2f5975d2ebcd",
   "metadata": {},
   "outputs": [],
   "source": [
    "nombre=' '.join(nombre)"
   ]
  },
  {
   "cell_type": "code",
   "execution_count": 73,
   "id": "3041e526-9428-493b-8d00-3547a40586f0",
   "metadata": {},
   "outputs": [
    {
     "data": {
      "text/plain": [
       "'1988 Nissan PULSAR • 5 Pas.'"
      ]
     },
     "execution_count": 73,
     "metadata": {},
     "output_type": "execute_result"
    }
   ],
   "source": [
    "nombre"
   ]
  },
  {
   "cell_type": "code",
   "execution_count": 79,
   "id": "00c9f62a-cd14-47fc-a273-e563cd7e5a5b",
   "metadata": {},
   "outputs": [
    {
     "name": "stdout",
     "output_type": "stream",
     "text": [
      "********\n"
     ]
    }
   ],
   "source": [
    "print (\"*\"*8)"
   ]
  },
  {
   "cell_type": "code",
   "execution_count": null,
   "id": "e2d27bac-bf35-43c0-b09f-e8bb93969d69",
   "metadata": {},
   "outputs": [],
   "source": []
  }
 ],
 "metadata": {
  "kernelspec": {
   "display_name": "Python 3 (ipykernel)",
   "language": "python",
   "name": "python3"
  },
  "language_info": {
   "codemirror_mode": {
    "name": "ipython",
    "version": 3
   },
   "file_extension": ".py",
   "mimetype": "text/x-python",
   "name": "python",
   "nbconvert_exporter": "python",
   "pygments_lexer": "ipython3",
   "version": "3.11.4"
  }
 },
 "nbformat": 4,
 "nbformat_minor": 5
}
