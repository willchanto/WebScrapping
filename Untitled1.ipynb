{
 "cells": [
  {
   "cell_type": "code",
   "execution_count": 1,
   "id": "45a65e0c-4510-4146-8e1a-3de318ae3e78",
   "metadata": {},
   "outputs": [],
   "source": [
    "datos={}"
   ]
  },
  {
   "cell_type": "code",
   "execution_count": 2,
   "id": "b82973e1-2bf3-42f6-be4e-04d05d1f765e",
   "metadata": {},
   "outputs": [
    {
     "data": {
      "text/plain": [
       "{}"
      ]
     },
     "execution_count": 2,
     "metadata": {},
     "output_type": "execute_result"
    }
   ],
   "source": [
    "datos"
   ]
  },
  {
   "cell_type": "code",
   "execution_count": 3,
   "id": "2c6dfa11-2e80-4534-bf25-82d4e90fa93d",
   "metadata": {},
   "outputs": [
    {
     "ename": "SyntaxError",
     "evalue": "invalid syntax (2433666646.py, line 1)",
     "output_type": "error",
     "traceback": [
      "\u001b[1;36m  Cell \u001b[1;32mIn[3], line 1\u001b[1;36m\u001b[0m\n\u001b[1;33m    datos{'valor1':1}\u001b[0m\n\u001b[1;37m         ^\u001b[0m\n\u001b[1;31mSyntaxError\u001b[0m\u001b[1;31m:\u001b[0m invalid syntax\n"
     ]
    }
   ],
   "source": [
    "datos. {'valor1':1}"
   ]
  },
  {
   "cell_type": "code",
   "execution_count": null,
   "id": "619ba518-eb4d-41e3-89c9-6d092c022f22",
   "metadata": {},
   "outputs": [],
   "source": []
  }
 ],
 "metadata": {
  "kernelspec": {
   "display_name": "Python 3 (ipykernel)",
   "language": "python",
   "name": "python3"
  },
  "language_info": {
   "codemirror_mode": {
    "name": "ipython",
    "version": 3
   },
   "file_extension": ".py",
   "mimetype": "text/x-python",
   "name": "python",
   "nbconvert_exporter": "python",
   "pygments_lexer": "ipython3",
   "version": "3.11.4"
  }
 },
 "nbformat": 4,
 "nbformat_minor": 5
}
