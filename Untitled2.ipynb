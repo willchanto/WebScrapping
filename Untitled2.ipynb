{
 "cells": [
  {
   "cell_type": "code",
   "execution_count": 9,
   "id": "95559bab-5c63-45bf-a82d-cc89a3a48ac1",
   "metadata": {},
   "outputs": [
    {
     "name": "stdout",
     "output_type": "stream",
     "text": [
      "javascript:p(1)\n",
      "javascript:p(2)\n",
      "javascript:p(3)\n",
      "javascript:p(4)\n",
      "javascript:p(5)\n",
      "javascript:p(6)\n",
      "javascript:p(7)\n",
      "javascript:p(8)\n",
      "javascript:p(9)\n"
     ]
    }
   ],
   "source": [
    "for pagina in range(1,10):\n",
    " text = \"javascript:p({})\".format(pagina)\n",
    " print(text)   "
   ]
  },
  {
   "cell_type": "code",
   "execution_count": 4,
   "id": "f19c4785-8aa6-43bc-b31c-f57230f17215",
   "metadata": {},
   "outputs": [
    {
     "name": "stdout",
     "output_type": "stream",
     "text": [
      "javascript:p('10')\n"
     ]
    }
   ],
   "source": [
    "print(text)"
   ]
  },
  {
   "cell_type": "code",
   "execution_count": null,
   "id": "b401fcc5-cdec-4b84-8768-22b52175efce",
   "metadata": {},
   "outputs": [],
   "source": []
  }
 ],
 "metadata": {
  "kernelspec": {
   "display_name": "Python 3 (ipykernel)",
   "language": "python",
   "name": "python3"
  },
  "language_info": {
   "codemirror_mode": {
    "name": "ipython",
    "version": 3
   },
   "file_extension": ".py",
   "mimetype": "text/x-python",
   "name": "python",
   "nbconvert_exporter": "python",
   "pygments_lexer": "ipython3",
   "version": "3.11.4"
  }
 },
 "nbformat": 4,
 "nbformat_minor": 5
}
