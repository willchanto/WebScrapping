{
 "cells": [
  {
   "cell_type": "code",
   "execution_count": 1,
   "id": "acffb01b-578a-4c5e-b45c-971e17dee742",
   "metadata": {
    "tags": []
   },
   "outputs": [],
   "source": [
    "import requests  \n",
    "from bs4 import BeautifulSoup  \n",
    "from selenium import webdriver\n",
    "from selenium.webdriver.common.keys import Keys\n",
    "import re\n",
    "import pandas as pd\n",
    "import os\n",
    "from selenium.webdriver.common.by import By\n",
    "import time"
   ]
  },
  {
   "cell_type": "markdown",
   "id": "2c400898-3595-4621-89db-89b62dbadfa0",
   "metadata": {},
   "source": [
    "### Funcion para lectura de la pagina"
   ]
  },
  {
   "cell_type": "code",
   "execution_count": 2,
   "id": "c5302309-e2e6-4c39-919f-6e9597f7c14f",
   "metadata": {
    "tags": []
   },
   "outputs": [],
   "source": [
    "def get_valores(tags):\n",
    "    categ=''\n",
    "    valor=''\n",
    "    datos['marca']=marca\n",
    "    datos['modelo']=modelo\n",
    "    datos['pasajeros']=pasajeros\n",
    "    datos['descripcion']=descrip\n",
    "    datos['precio']=precio\n",
    "    datos['preciodolar']=preciodolar\n",
    "    \n",
    "    for tag in tags:\n",
    "      if tag.has_attr('class'):\n",
    "        if tag['class'] == 'spec' or tag['class']==['spec']:\n",
    "          valor=tag.text.strip()\n",
    "        else:\n",
    "          categ=tag.text.strip()\n",
    "\n",
    "      if categ!='' and valor!='':\n",
    "         datos[categ]=valor\n",
    "         categ=''\n",
    "         valor=''"
   ]
  },
  {
   "cell_type": "code",
   "execution_count": 3,
   "id": "ae7d092b-0eb8-47fb-b6de-9a0dfed0115d",
   "metadata": {
    "tags": []
   },
   "outputs": [],
   "source": [
    "df=[]"
   ]
  },
  {
   "cell_type": "code",
   "execution_count": 4,
   "id": "6f2de5c9-8f18-45d5-b3ab-1464b913a5cd",
   "metadata": {
    "tags": []
   },
   "outputs": [],
   "source": [
    "url = \"https://crautos.com/autosusados/searchresults.cfm\"\n",
    "driver = webdriver.Firefox()\n",
    "driver.implicitly_wait(30)\n",
    "driver.get(url)\n",
    "soup=BeautifulSoup(driver.page_source,'html.parser')\n",
    "df = pd.DataFrame()"
   ]
  },
  {
   "cell_type": "code",
   "execution_count": null,
   "id": "87ba918f-13fd-4c1a-97da-b3518032da63",
   "metadata": {
    "tags": []
   },
   "outputs": [
    {
     "name": "stdout",
     "output_type": "stream",
     "text": [
      "Pagina 1: \n",
      "Pagina 2: \n",
      "Pagina 3: \n",
      "Pagina 4: \n",
      "Pagina 5: \n",
      "Pagina 6: \n",
      "Pagina 7: \n",
      "Pagina 8: \n",
      "Pagina 9: \n",
      "Pagina 10: \n"
     ]
    }
   ],
   "source": [
    "for pagina in range(1,720):\n",
    " print (\"Pagina {}: \".format(pagina)) \n",
    " text = \"javascript:p({})\".format(pagina)\n",
    " \n",
    " driver.execute_script(text)\n",
    " time.sleep(2)\n",
    "    \n",
    " soup=BeautifulSoup(driver.page_source,'html.parser')\n",
    " anuncios = soup.find_all('div', class_ ='inventory')\n",
    "\n",
    " for anuncio in anuncios:\n",
    "   datos = {}\n",
    "   nombre=anuncio.find('div').text.split() #Descripcion\n",
    "\n",
    "       \n",
    "   datos['year']=nombre[0]\n",
    "   try:\n",
    "     pos=nombre.index('Pas.')  \n",
    "     pasajeros=nombre[pos-1]\n",
    "     descrip=nombre[1:pos-2]\n",
    "     nombre=nombre[0:pos-2]\n",
    "   except ValueError:\n",
    "     pos=0\n",
    "     pasajeros=\"0\"\n",
    "     descrip=nombre[1:]\n",
    "\n",
    "   nombre=' '.join(nombre)\n",
    "    \n",
    "   dummy=nombre.split()[2]\n",
    "   minuscula=False\n",
    "   for char in dummy:\n",
    "      if char.islower():\n",
    "          minuscula=True\n",
    "          break\n",
    "   if minuscula:\n",
    "      marca=nombre.split()[1:3]\n",
    "      marca=' '.join(marca)\n",
    "      modelo=' '.join(nombre.split()[3:])\n",
    "   else:\n",
    "      marca=nombre.split()[1]\n",
    "      modelo=' '.join(nombre.split()[2:])\n",
    "\n",
    "   #print(\"Marca: \",marca,\" Modelo: \",modelo)\n",
    "    \n",
    "   precio=\"\"\n",
    "   preciodolar=\"\"\n",
    "   p=anuncio.find('div',class_='pricetext')\n",
    "   if p!=None:\n",
    "    precio= anuncio.find('div',class_='pricetext').text\n",
    "    precio = precio.replace('¢','')  \n",
    "    precio = precio.replace(',','')  \n",
    "     \n",
    "   p=anuncio.find('div',class_='pricedollars')\n",
    "   if p!=None:  \n",
    "     preciodolar = anuncio.find('div',class_='pricedollars').text\n",
    "     preciodolar = preciodolar.replace('$','')  \n",
    "     preciodolar = preciodolar.replace(',','')\n",
    "     preciodolar = preciodolar.replace('(','')  \n",
    "     preciodolar = preciodolar.replace(')*','')\n",
    "   \n",
    "   #Revisar si precio en dolares y colones estan invertidos\n",
    "   if len(precio)==0:  precio=\"0\"\n",
    "   if len(preciodolar)==0: preciodolar=\"0\" \n",
    "   if precio[0]=='$':\n",
    "    prc=preciodolar\n",
    "    prd=precio\n",
    "    precio=prc.replace(\"¢\",\"\")\n",
    "    preciodolar=prd.replace(\"$\",\"\")\n",
    "\n",
    "   tags = anuncio.find_all('td')           #Caracteristicas\n",
    "   get_valores(tags)\n",
    "   \n",
    "   registro = pd.DataFrame([datos])\n",
    "   df = pd.concat([df,registro])\n",
    "   "
   ]
  },
  {
   "cell_type": "code",
   "execution_count": null,
   "id": "7ea238c4-c758-4aa6-9984-3cf8f9da595c",
   "metadata": {
    "tags": []
   },
   "outputs": [],
   "source": [
    "df.to_csv(\"crautos.csv\",index=False)\n",
    "#nombre=anuncio.find('div').text.split() "
   ]
  },
  {
   "cell_type": "code",
   "execution_count": null,
   "id": "ab008ad5-9da5-4e50-a0c4-364c42f5ee88",
   "metadata": {
    "tags": []
   },
   "outputs": [],
   "source": [
    "df.shape"
   ]
  },
  {
   "cell_type": "code",
   "execution_count": null,
   "id": "12324aa2",
   "metadata": {},
   "outputs": [],
   "source": [
    "precio=\"$1500\"   \n",
    "preciodolar=\"¢800000\"\n",
    "print(\"Precio Dolar: \",preciodolar)    \n",
    "print(\"Precio Colon: \",precio, \"\\n\")\n",
    "    \n",
    "if precio[0]=='$':\n",
    "  prc=preciodolar\n",
    "  prd=precio\n",
    "  precio=prc.replace(\"¢\",\"\")\n",
    "  preciodolar=prd.replace(\"$\",\"\")\n",
    "    \n",
    "print(\"Precio Dolar: \",preciodolar)    \n",
    "print(\"Precio Colon: \",precio)"
   ]
  },
  {
   "cell_type": "code",
   "execution_count": null,
   "id": "6a8e92c8",
   "metadata": {},
   "outputs": [],
   "source": [
    "len(precio)\n",
    "\n"
   ]
  },
  {
   "cell_type": "code",
   "execution_count": null,
   "id": "6b710fb9",
   "metadata": {},
   "outputs": [],
   "source": []
  }
 ],
 "metadata": {
  "kernelspec": {
   "display_name": "Python 3 (ipykernel)",
   "language": "python",
   "name": "python3"
  },
  "language_info": {
   "codemirror_mode": {
    "name": "ipython",
    "version": 3
   },
   "file_extension": ".py",
   "mimetype": "text/x-python",
   "name": "python",
   "nbconvert_exporter": "python",
   "pygments_lexer": "ipython3",
   "version": "3.11.4"
  }
 },
 "nbformat": 4,
 "nbformat_minor": 5
}
